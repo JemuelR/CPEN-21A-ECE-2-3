{
  "nbformat": 4,
  "nbformat_minor": 0,
  "metadata": {
    "colab": {
      "name": "Copy of Welcome To Colaboratory",
      "provenance": [],
      "collapsed_sections": [],
      "include_colab_link": true
    },
    "kernelspec": {
      "display_name": "Python 3",
      "name": "python3"
    }
  },
  "cells": [
    {
      "cell_type": "markdown",
      "metadata": {
        "id": "view-in-github",
        "colab_type": "text"
      },
      "source": [
        "<a href=\"https://colab.research.google.com/github/JemuelR/CPEN-21A-ECE-2-3/blob/main/Demo%201.ipynb\" target=\"_parent\"><img src=\"https://colab.research.google.com/assets/colab-badge.svg\" alt=\"Open In Colab\"/></a>"
      ]
    },
    {
      "cell_type": "markdown",
      "metadata": {
        "id": "7cdX1UjKDTMv"
      },
      "source": [
        "Python Indentation"
      ]
    },
    {
      "cell_type": "code",
      "metadata": {
        "colab": {
          "base_uri": "https://localhost:8080/"
        },
        "id": "MN5Mbdok_d01",
        "outputId": "21893323-765d-4181-a226-faeebdf1e717"
      },
      "source": [
        "if 5>2:\n",
        "    print(\"Five is greater than two!\")"
      ],
      "execution_count": null,
      "outputs": [
        {
          "output_type": "stream",
          "name": "stdout",
          "text": [
            "Five is greater than two!\n"
          ]
        }
      ]
    },
    {
      "cell_type": "markdown",
      "metadata": {
        "id": "X7d5l2RfDZT0"
      },
      "source": [
        "Python Variable"
      ]
    },
    {
      "cell_type": "code",
      "metadata": {
        "colab": {
          "base_uri": "https://localhost:8080/"
        },
        "id": "sMGiMEkZ_9hc",
        "outputId": "2588a683-10d0-4ac7-f55c-cec240103d96"
      },
      "source": [
        "a,b,c=0,1,2\n",
        "d=\"Sally\"\n",
        "s='mark'\n",
        "A='Raymond'\n",
        "print(a)\n",
        "print(b)\n",
        "print(c)\n",
        "print(d)\n",
        "print(s)\n",
        "print(A)"
      ],
      "execution_count": null,
      "outputs": [
        {
          "output_type": "stream",
          "name": "stdout",
          "text": [
            "0\n",
            "1\n",
            "2\n",
            "Sally\n",
            "mark\n",
            "Raymond\n"
          ]
        }
      ]
    },
    {
      "cell_type": "markdown",
      "metadata": {
        "id": "7vXkKvm3DfQI"
      },
      "source": [
        "Casting"
      ]
    },
    {
      "cell_type": "code",
      "metadata": {
        "colab": {
          "base_uri": "https://localhost:8080/"
        },
        "id": "EN6XnsSOBNF3",
        "outputId": "615ae98e-bf2d-4892-bd74-bd2122ab19d7"
      },
      "source": [
        "print (float(4))\n",
        "f = 56.47 \n",
        "print(type(f))"
      ],
      "execution_count": null,
      "outputs": [
        {
          "output_type": "stream",
          "name": "stdout",
          "text": [
            "4.0\n",
            "<class 'float'>\n"
          ]
        }
      ]
    },
    {
      "cell_type": "code",
      "metadata": {
        "colab": {
          "base_uri": "https://localhost:8080/"
        },
        "id": "T9SJ7qDkBZKj",
        "outputId": "dc1ab8d3-a62b-4bf3-d5e9-960afb66f216"
      },
      "source": [
        "x,y,z=\"one\",\"two\", \"three\"\n",
        "print(x)\n",
        "print (y) \n",
        "print(z)"
      ],
      "execution_count": null,
      "outputs": [
        {
          "output_type": "stream",
          "name": "stdout",
          "text": [
            "one\n",
            "two\n",
            "three\n"
          ]
        }
      ]
    },
    {
      "cell_type": "code",
      "metadata": {
        "colab": {
          "base_uri": "https://localhost:8080/"
        },
        "id": "bZPwkRP5BiR4",
        "outputId": "a69a4610-f3be-49da-dd58-a5ac9d495fc9"
      },
      "source": [
        "x=y=z=\"four\" \n",
        "print(x)\n",
        "print(y)\n",
        "print(z)"
      ],
      "execution_count": null,
      "outputs": [
        {
          "output_type": "stream",
          "name": "stdout",
          "text": [
            "four\n",
            "four\n",
            "four\n"
          ]
        }
      ]
    },
    {
      "cell_type": "code",
      "metadata": {
        "colab": {
          "base_uri": "https://localhost:8080/"
        },
        "id": "UO8eRQerBr8b",
        "outputId": "18d8145f-38b9-42af-edcc-e8ff9068fbe5"
      },
      "source": [
        "x= \"enjoying\"\n",
        "print(\"Python programming is \"+x)"
      ],
      "execution_count": null,
      "outputs": [
        {
          "output_type": "stream",
          "name": "stdout",
          "text": [
            "Python programming is enjoying\n"
          ]
        }
      ]
    },
    {
      "cell_type": "markdown",
      "metadata": {
        "id": "9HTqH6PODji6"
      },
      "source": [
        "Operations in Python"
      ]
    },
    {
      "cell_type": "code",
      "metadata": {
        "colab": {
          "base_uri": "https://localhost:8080/"
        },
        "id": "1sJABXrHB9SK",
        "outputId": "c8dcfcc4-ea9f-458c-87b8-90b90b0280a3"
      },
      "source": [
        "k=10\n",
        "l=5\n",
        "print (k+l)"
      ],
      "execution_count": null,
      "outputs": [
        {
          "output_type": "stream",
          "name": "stdout",
          "text": [
            "15\n"
          ]
        }
      ]
    },
    {
      "cell_type": "code",
      "metadata": {
        "colab": {
          "base_uri": "https://localhost:8080/"
        },
        "id": "YmWrjVshCLFx",
        "outputId": "015b5402-7654-435f-cd22-7b9f38cb678f"
      },
      "source": [
        "k+=1\n",
        "print (k)"
      ],
      "execution_count": null,
      "outputs": [
        {
          "output_type": "stream",
          "name": "stdout",
          "text": [
            "11\n"
          ]
        }
      ]
    },
    {
      "cell_type": "code",
      "metadata": {
        "colab": {
          "base_uri": "https://localhost:8080/"
        },
        "id": "dcHKUeQkCUd6",
        "outputId": "752bca75-3285-4185-b8a9-84907c3bb821"
      },
      "source": [
        "k>l or l==k \n",
        "k>l or l==k\n",
        "not (k>l or k==l)"
      ],
      "execution_count": null,
      "outputs": [
        {
          "output_type": "execute_result",
          "data": {
            "text/plain": [
              "True"
            ]
          },
          "metadata": {},
          "execution_count": 29
        }
      ]
    },
    {
      "cell_type": "code",
      "metadata": {
        "colab": {
          "base_uri": "https://localhost:8080/"
        },
        "id": "DWursBwEChnZ",
        "outputId": "2a81c4d5-c66f-415f-c222-960cf31e2476"
      },
      "source": [
        "not (k is l)\n",
        "k is not l"
      ],
      "execution_count": null,
      "outputs": [
        {
          "output_type": "execute_result",
          "data": {
            "text/plain": [
              "True"
            ]
          },
          "metadata": {},
          "execution_count": 30
        }
      ]
    },
    {
      "cell_type": "code",
      "metadata": {
        "colab": {
          "base_uri": "https://localhost:8080/"
        },
        "id": "FL9BgKCcClda",
        "outputId": "aad07881-edf4-4adc-bc8e-12ca94236682"
      },
      "source": [
        "k%=3\n",
        "\n",
        "k"
      ],
      "execution_count": null,
      "outputs": [
        {
          "output_type": "execute_result",
          "data": {
            "text/plain": [
              "2"
            ]
          },
          "metadata": {},
          "execution_count": 28
        }
      ]
    }
  ]
}